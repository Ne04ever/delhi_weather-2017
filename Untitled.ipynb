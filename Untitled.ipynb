{
 "cells": [
  {
   "cell_type": "code",
   "execution_count": 45,
   "metadata": {},
   "outputs": [],
   "source": [
    "import pandas as pd\n",
    "import numpy as np\n",
    "import datetime"
   ]
  },
  {
   "cell_type": "code",
   "execution_count": 27,
   "metadata": {},
   "outputs": [],
   "source": [
    "delhi_weather=pd.read_csv('/home/neo/Desktop/delhi_weather/testset.csv')"
   ]
  },
  {
   "cell_type": "code",
   "execution_count": 28,
   "metadata": {},
   "outputs": [
    {
     "data": {
      "text/html": [
       "<div>\n",
       "<style scoped>\n",
       "    .dataframe tbody tr th:only-of-type {\n",
       "        vertical-align: middle;\n",
       "    }\n",
       "\n",
       "    .dataframe tbody tr th {\n",
       "        vertical-align: top;\n",
       "    }\n",
       "\n",
       "    .dataframe thead th {\n",
       "        text-align: right;\n",
       "    }\n",
       "</style>\n",
       "<table border=\"1\" class=\"dataframe\">\n",
       "  <thead>\n",
       "    <tr style=\"text-align: right;\">\n",
       "      <th></th>\n",
       "      <th>datetime_utc</th>\n",
       "      <th>_conds</th>\n",
       "      <th>_dewptm</th>\n",
       "      <th>_fog</th>\n",
       "      <th>_hail</th>\n",
       "      <th>_heatindexm</th>\n",
       "      <th>_hum</th>\n",
       "      <th>_precipm</th>\n",
       "      <th>_pressurem</th>\n",
       "      <th>_rain</th>\n",
       "      <th>_snow</th>\n",
       "      <th>_tempm</th>\n",
       "      <th>_thunder</th>\n",
       "      <th>_tornado</th>\n",
       "      <th>_vism</th>\n",
       "      <th>_wdird</th>\n",
       "      <th>_wdire</th>\n",
       "      <th>_wgustm</th>\n",
       "      <th>_windchillm</th>\n",
       "      <th>_wspdm</th>\n",
       "    </tr>\n",
       "  </thead>\n",
       "  <tbody>\n",
       "    <tr>\n",
       "      <th>100985</th>\n",
       "      <td>20170424-06:00</td>\n",
       "      <td>Haze</td>\n",
       "      <td>17.0</td>\n",
       "      <td>0</td>\n",
       "      <td>0</td>\n",
       "      <td>NaN</td>\n",
       "      <td>25.0</td>\n",
       "      <td>NaN</td>\n",
       "      <td>1005.0</td>\n",
       "      <td>0</td>\n",
       "      <td>0</td>\n",
       "      <td>34.0</td>\n",
       "      <td>0</td>\n",
       "      <td>0</td>\n",
       "      <td>4.0</td>\n",
       "      <td>320.0</td>\n",
       "      <td>NW</td>\n",
       "      <td>NaN</td>\n",
       "      <td>NaN</td>\n",
       "      <td>11.1</td>\n",
       "    </tr>\n",
       "    <tr>\n",
       "      <th>100986</th>\n",
       "      <td>20170424-09:00</td>\n",
       "      <td>Haze</td>\n",
       "      <td>14.0</td>\n",
       "      <td>0</td>\n",
       "      <td>0</td>\n",
       "      <td>NaN</td>\n",
       "      <td>16.0</td>\n",
       "      <td>NaN</td>\n",
       "      <td>1003.0</td>\n",
       "      <td>0</td>\n",
       "      <td>0</td>\n",
       "      <td>38.0</td>\n",
       "      <td>0</td>\n",
       "      <td>0</td>\n",
       "      <td>4.0</td>\n",
       "      <td>320.0</td>\n",
       "      <td>NW</td>\n",
       "      <td>NaN</td>\n",
       "      <td>NaN</td>\n",
       "      <td>22.2</td>\n",
       "    </tr>\n",
       "    <tr>\n",
       "      <th>100987</th>\n",
       "      <td>20170424-12:00</td>\n",
       "      <td>Haze</td>\n",
       "      <td>12.0</td>\n",
       "      <td>0</td>\n",
       "      <td>0</td>\n",
       "      <td>NaN</td>\n",
       "      <td>14.0</td>\n",
       "      <td>NaN</td>\n",
       "      <td>1002.0</td>\n",
       "      <td>0</td>\n",
       "      <td>0</td>\n",
       "      <td>36.0</td>\n",
       "      <td>0</td>\n",
       "      <td>0</td>\n",
       "      <td>4.0</td>\n",
       "      <td>270.0</td>\n",
       "      <td>West</td>\n",
       "      <td>NaN</td>\n",
       "      <td>NaN</td>\n",
       "      <td>18.5</td>\n",
       "    </tr>\n",
       "    <tr>\n",
       "      <th>100988</th>\n",
       "      <td>20170424-15:00</td>\n",
       "      <td>Haze</td>\n",
       "      <td>15.0</td>\n",
       "      <td>0</td>\n",
       "      <td>0</td>\n",
       "      <td>NaN</td>\n",
       "      <td>27.0</td>\n",
       "      <td>NaN</td>\n",
       "      <td>1004.0</td>\n",
       "      <td>0</td>\n",
       "      <td>0</td>\n",
       "      <td>32.0</td>\n",
       "      <td>0</td>\n",
       "      <td>0</td>\n",
       "      <td>2.0</td>\n",
       "      <td>320.0</td>\n",
       "      <td>NW</td>\n",
       "      <td>NaN</td>\n",
       "      <td>NaN</td>\n",
       "      <td>3.7</td>\n",
       "    </tr>\n",
       "    <tr>\n",
       "      <th>100989</th>\n",
       "      <td>20170424-18:00</td>\n",
       "      <td>Haze</td>\n",
       "      <td>15.0</td>\n",
       "      <td>0</td>\n",
       "      <td>0</td>\n",
       "      <td>NaN</td>\n",
       "      <td>30.0</td>\n",
       "      <td>NaN</td>\n",
       "      <td>1005.0</td>\n",
       "      <td>0</td>\n",
       "      <td>0</td>\n",
       "      <td>30.0</td>\n",
       "      <td>0</td>\n",
       "      <td>0</td>\n",
       "      <td>2.0</td>\n",
       "      <td>320.0</td>\n",
       "      <td>NW</td>\n",
       "      <td>NaN</td>\n",
       "      <td>NaN</td>\n",
       "      <td>3.7</td>\n",
       "    </tr>\n",
       "  </tbody>\n",
       "</table>\n",
       "</div>"
      ],
      "text/plain": [
       "          datetime_utc  _conds   _dewptm   _fog   _hail   _heatindexm   _hum  \\\n",
       "100985  20170424-06:00    Haze      17.0      0       0           NaN   25.0   \n",
       "100986  20170424-09:00    Haze      14.0      0       0           NaN   16.0   \n",
       "100987  20170424-12:00    Haze      12.0      0       0           NaN   14.0   \n",
       "100988  20170424-15:00    Haze      15.0      0       0           NaN   27.0   \n",
       "100989  20170424-18:00    Haze      15.0      0       0           NaN   30.0   \n",
       "\n",
       "         _precipm   _pressurem   _rain   _snow   _tempm   _thunder   _tornado  \\\n",
       "100985        NaN       1005.0       0       0     34.0          0          0   \n",
       "100986        NaN       1003.0       0       0     38.0          0          0   \n",
       "100987        NaN       1002.0       0       0     36.0          0          0   \n",
       "100988        NaN       1004.0       0       0     32.0          0          0   \n",
       "100989        NaN       1005.0       0       0     30.0          0          0   \n",
       "\n",
       "         _vism   _wdird  _wdire   _wgustm   _windchillm   _wspdm  \n",
       "100985     4.0    320.0      NW       NaN           NaN     11.1  \n",
       "100986     4.0    320.0      NW       NaN           NaN     22.2  \n",
       "100987     4.0    270.0    West       NaN           NaN     18.5  \n",
       "100988     2.0    320.0      NW       NaN           NaN      3.7  \n",
       "100989     2.0    320.0      NW       NaN           NaN      3.7  "
      ]
     },
     "execution_count": 28,
     "metadata": {},
     "output_type": "execute_result"
    }
   ],
   "source": [
    "delhi_weather.tail()"
   ]
  },
  {
   "cell_type": "code",
   "execution_count": 29,
   "metadata": {},
   "outputs": [
    {
     "data": {
      "text/plain": [
       "(100990, 20)"
      ]
     },
     "execution_count": 29,
     "metadata": {},
     "output_type": "execute_result"
    }
   ],
   "source": [
    "delhi_weather.shape"
   ]
  },
  {
   "cell_type": "code",
   "execution_count": 30,
   "metadata": {},
   "outputs": [],
   "source": [
    "missing_cols=list([cols for cols in delhi_weather.columns\n",
    "                   if delhi_weather[cols].isnull().any()])\n",
    "              \n"
   ]
  },
  {
   "cell_type": "code",
   "execution_count": 31,
   "metadata": {},
   "outputs": [
    {
     "name": "stdout",
     "output_type": "stream",
     "text": [
      "[' _conds', ' _dewptm', ' _heatindexm', ' _hum', ' _precipm', ' _pressurem', ' _tempm', ' _vism', ' _wdird', ' _wdire', ' _wgustm', ' _windchillm', ' _wspdm']\n"
     ]
    }
   ],
   "source": [
    "print(missing_cols)"
   ]
  },
  {
   "cell_type": "code",
   "execution_count": 42,
   "metadata": {},
   "outputs": [
    {
     "data": {
      "text/plain": [
       "datetime_utc     object\n",
       " _conds          object\n",
       " _dewptm        float64\n",
       " _fog             int64\n",
       " _hail            int64\n",
       " _heatindexm    float64\n",
       " _hum           float64\n",
       " _precipm       float64\n",
       " _pressurem     float64\n",
       " _rain            int64\n",
       " _snow            int64\n",
       " _tempm         float64\n",
       " _thunder         int64\n",
       " _tornado         int64\n",
       " _vism          float64\n",
       " _wdird         float64\n",
       " _wdire          object\n",
       " _wgustm        float64\n",
       " _windchillm    float64\n",
       " _wspdm         float64\n",
       "dtype: object"
      ]
     },
     "execution_count": 42,
     "metadata": {},
     "output_type": "execute_result"
    }
   ],
   "source": [
    "delhi_weather.dtypes"
   ]
  },
  {
   "cell_type": "code",
   "execution_count": 44,
   "metadata": {},
   "outputs": [
    {
     "data": {
      "text/plain": [
       "0        1996-11-01 11:00:00\n",
       "1        1996-11-01 12:00:00\n",
       "2        1996-11-01 13:00:00\n",
       "3        1996-11-01 14:00:00\n",
       "4        1996-11-01 16:00:00\n",
       "                 ...        \n",
       "100985   2017-04-24 06:00:00\n",
       "100986   2017-04-24 09:00:00\n",
       "100987   2017-04-24 12:00:00\n",
       "100988   2017-04-24 15:00:00\n",
       "100989   2017-04-24 18:00:00\n",
       "Name: datetime_utc, Length: 100990, dtype: datetime64[ns]"
      ]
     },
     "execution_count": 44,
     "metadata": {},
     "output_type": "execute_result"
    }
   ],
   "source": [
    "pd.to_datetime(delhi_weather.datetime_utc)"
   ]
  },
  {
   "cell_type": "code",
   "execution_count": 47,
   "metadata": {},
   "outputs": [
    {
     "data": {
      "text/plain": [
       "Int64Index([1996, 1996, 1996, 1996, 1996, 1996, 1996, 1996, 1996, 1996,\n",
       "            ...\n",
       "            2017, 2017, 2017, 2017, 2017, 2017, 2017, 2017, 2017, 2017],\n",
       "           dtype='int64', name='datetime_utc', length=100990)"
      ]
     },
     "execution_count": 47,
     "metadata": {},
     "output_type": "execute_result"
    }
   ],
   "source": [
    "pd.DatetimeIndex(delhi_weather['datetime_utc']).year"
   ]
  },
  {
   "cell_type": "code",
   "execution_count": null,
   "metadata": {},
   "outputs": [],
   "source": []
  },
  {
   "cell_type": "code",
   "execution_count": null,
   "metadata": {},
   "outputs": [],
   "source": []
  }
 ],
 "metadata": {
  "kernelspec": {
   "display_name": "Python 3",
   "language": "python",
   "name": "python3"
  },
  "language_info": {
   "codemirror_mode": {
    "name": "ipython",
    "version": 3
   },
   "file_extension": ".py",
   "mimetype": "text/x-python",
   "name": "python",
   "nbconvert_exporter": "python",
   "pygments_lexer": "ipython3",
   "version": "3.8.3"
  }
 },
 "nbformat": 4,
 "nbformat_minor": 4
}
